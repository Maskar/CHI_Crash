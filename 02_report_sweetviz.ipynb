{
 "cells": [
  {
   "cell_type": "code",
   "execution_count": 1,
   "id": "sufficient-public",
   "metadata": {
    "execution": {
     "iopub.execute_input": "2021-03-21T20:48:26.363848Z",
     "iopub.status.busy": "2021-03-21T20:48:26.363653Z",
     "iopub.status.idle": "2021-03-21T20:48:27.397841Z",
     "shell.execute_reply": "2021-03-21T20:48:27.397244Z",
     "shell.execute_reply.started": "2021-03-21T20:48:26.363797Z"
    },
    "tags": []
   },
   "outputs": [
    {
     "name": "stdout",
     "output_type": "stream",
     "text": [
      "python 3.9.2\n",
      "numpy 1.20.1\n",
      "pandas 1.2.3\n",
      "klib 0.1.5\n",
      "sklearn 0.24.1\n",
      "sweetviz 2.0.9\n"
     ]
    }
   ],
   "source": [
    "import pandas as pd\n",
    "import numpy as np\n",
    "import klib\n",
    "import pandas_profiling as pp\n",
    "import sweetviz\n",
    "import sklearn\n",
    "\n",
    "import matplotlib.pyplot as plt\n",
    "import seaborn as sns\n",
    "\n",
    "from sklearn.preprocessing import OrdinalEncoder\n",
    "from sklearn.model_selection import train_test_split\n",
    "from platform import python_version\n",
    "\n",
    "%precision 2\n",
    "pd.set_option('max_columns',200)\n",
    "pd.set_option('display.precision',2)\n",
    "pd.set_option('display.float_format','{:,.4f}'.format)\n",
    "\n",
    "print('python',python_version())\n",
    "print(np.__name__, np.__version__)\n",
    "print(pd.__name__, pd.__version__)\n",
    "print(klib.__name__, klib.__version__)\n",
    "#print(pp.__name__, pp.__version__)\n",
    "print(sklearn.__name__, sklearn.__version__)\n",
    "print(sweetviz.__name__, sweetviz.__version__)"
   ]
  },
  {
   "cell_type": "markdown",
   "id": "mediterranean-campbell",
   "metadata": {},
   "source": [
    "# Read Data"
   ]
  },
  {
   "cell_type": "code",
   "execution_count": 2,
   "id": "alternate-fundamental",
   "metadata": {
    "execution": {
     "iopub.execute_input": "2021-03-21T20:48:27.399471Z",
     "iopub.status.busy": "2021-03-21T20:48:27.399204Z",
     "iopub.status.idle": "2021-03-21T20:48:27.696344Z",
     "shell.execute_reply": "2021-03-21T20:48:27.695822Z",
     "shell.execute_reply.started": "2021-03-21T20:48:27.399448Z"
    },
    "tags": []
   },
   "outputs": [
    {
     "name": "stdout",
     "output_type": "stream",
     "text": [
      "<class 'pandas.core.frame.DataFrame'>\n",
      "Int64Index: 326488 entries, 0 to 328789\n",
      "Data columns (total 32 columns):\n",
      " #   Column                   Non-Null Count   Dtype         \n",
      "---  ------                   --------------   -----         \n",
      " 0   crash_date               326488 non-null  datetime64[ns]\n",
      " 1   crash_year               326488 non-null  int16         \n",
      " 2   crash_month              326488 non-null  int8          \n",
      " 3   crash_day_of_week        326488 non-null  int8          \n",
      " 4   crash_hour               326488 non-null  int8          \n",
      " 5   crash_time_of_day        326488 non-null  category      \n",
      " 6   latitude                 326488 non-null  float32       \n",
      " 7   longitude                326488 non-null  float32       \n",
      " 8   beat_of_occurrence       326488 non-null  int64         \n",
      " 9   address                  326488 non-null  string        \n",
      " 10  street_no                326488 non-null  string        \n",
      " 11  street_direction         326488 non-null  category      \n",
      " 12  street_name              326488 non-null  category      \n",
      " 13  posted_speed_limit       326488 non-null  int64         \n",
      " 14  traffic_control_device   326488 non-null  category      \n",
      " 15  device_condition         326488 non-null  category      \n",
      " 16  weather_condition        326488 non-null  category      \n",
      " 17  lighting_condition       326488 non-null  category      \n",
      " 18  trafficway_type          326488 non-null  category      \n",
      " 19  alignment                326488 non-null  category      \n",
      " 20  roadway_surface_cond     326488 non-null  category      \n",
      " 21  road_defect              326488 non-null  category      \n",
      " 22  first_crash_type         326488 non-null  category      \n",
      " 23  prim_contributory_cause  326488 non-null  category      \n",
      " 24  sec_contributory_cause   326488 non-null  category      \n",
      " 25  num_units                326488 non-null  int8          \n",
      " 26  has_injuries             326488 non-null  int64         \n",
      " 27  has_fatal                326488 non-null  int64         \n",
      " 28  crash_type               326488 non-null  category      \n",
      " 29  damage                   326488 non-null  category      \n",
      " 30  injuries_total           326488 non-null  int64         \n",
      " 31  injuries_fatal           326488 non-null  int64         \n",
      "dtypes: category(16), datetime64[ns](1), float32(2), int16(1), int64(6), int8(4), string(2)\n",
      "memory usage: 34.6 MB\n"
     ]
    }
   ],
   "source": [
    "file_crash_df_parquet = 'crash_df.parquet'\n",
    "\n",
    "crash_df = pd.read_parquet(file_crash_df_parquet)\n",
    "\n",
    "crash_df.info()"
   ]
  },
  {
   "cell_type": "markdown",
   "id": "illegal-colleague",
   "metadata": {},
   "source": [
    "# EDA"
   ]
  },
  {
   "cell_type": "markdown",
   "id": "adaptive-hepatitis",
   "metadata": {
    "execution": {
     "iopub.execute_input": "2021-03-16T21:46:29.223230Z",
     "iopub.status.busy": "2021-03-16T21:46:29.222738Z",
     "iopub.status.idle": "2021-03-16T21:46:29.231471Z",
     "shell.execute_reply": "2021-03-16T21:46:29.230103Z",
     "shell.execute_reply.started": "2021-03-16T21:46:29.223190Z"
    },
    "tags": []
   },
   "source": [
    "After cleaning was performed in 01_cleaning, EDA was applied in two steps. The first step was to generate an overview of the whole data to undertstand the data distributions per feature. Also, to find obvious relations and patterns using correlations. This part was auto generated using SweetViz after performing the data cleaning step to generate a consolidated overview report. The report can be found in 02_report_sweetviz."
   ]
  },
  {
   "cell_type": "markdown",
   "id": "christian-zambia",
   "metadata": {},
   "source": [
    "This will take some time!"
   ]
  },
  {
   "cell_type": "code",
   "execution_count": 3,
   "id": "abroad-simulation",
   "metadata": {
    "execution": {
     "iopub.execute_input": "2021-03-21T20:48:27.697510Z",
     "iopub.status.busy": "2021-03-21T20:48:27.697340Z",
     "iopub.status.idle": "2021-03-21T20:50:27.447677Z",
     "shell.execute_reply": "2021-03-21T20:50:27.447168Z",
     "shell.execute_reply.started": "2021-03-21T20:48:27.697490Z"
    },
    "tags": []
   },
   "outputs": [
    {
     "data": {
      "application/vnd.jupyter.widget-view+json": {
       "model_id": "8c9b2fb7ab3b4fe794019d85d3b814a2",
       "version_major": 2,
       "version_minor": 0
      },
      "text/plain": [
       "                                             |          | [  0%]   00:00 -> (? left)"
      ]
     },
     "metadata": {},
     "output_type": "display_data"
    }
   ],
   "source": [
    "sv_report = sweetviz.DataframeReport(crash_df, target_feature_name='has_injuries')"
   ]
  },
  {
   "cell_type": "markdown",
   "id": "psychological-minnesota",
   "metadata": {},
   "source": [
    "I export to temporary file name so that it doesn't overwrite by mistake the one we use for reference."
   ]
  },
  {
   "cell_type": "code",
   "execution_count": 4,
   "id": "fantastic-proposal",
   "metadata": {
    "execution": {
     "iopub.execute_input": "2021-03-21T20:50:27.448884Z",
     "iopub.status.busy": "2021-03-21T20:50:27.448708Z",
     "iopub.status.idle": "2021-03-21T20:50:27.591361Z",
     "shell.execute_reply": "2021-03-21T20:50:27.590613Z",
     "shell.execute_reply.started": "2021-03-21T20:50:27.448864Z"
    },
    "tags": []
   },
   "outputs": [
    {
     "name": "stdout",
     "output_type": "stream",
     "text": [
      "Report 02_report_sweetviz_new.html was generated.\n"
     ]
    }
   ],
   "source": [
    "sv_report.show_html('02_report_sweetviz_new.html', layout='vertical', open_browser=False)"
   ]
  },
  {
   "cell_type": "markdown",
   "id": "configured-still",
   "metadata": {},
   "source": [
    "**Note: The actual output is saved in the companion html file 02_report_sweetviz.html**"
   ]
  },
  {
   "cell_type": "markdown",
   "id": "solar-series",
   "metadata": {},
   "source": [
    "# NEXT"
   ]
  },
  {
   "cell_type": "markdown",
   "id": "architectural-maryland",
   "metadata": {},
   "source": [
    "03_analysis_m.ipynb"
   ]
  }
 ],
 "metadata": {
  "kernelspec": {
   "display_name": "Basic DS",
   "language": "python",
   "name": "basic_ds"
  },
  "language_info": {
   "codemirror_mode": {
    "name": "ipython",
    "version": 3
   },
   "file_extension": ".py",
   "mimetype": "text/x-python",
   "name": "python",
   "nbconvert_exporter": "python",
   "pygments_lexer": "ipython3",
   "version": "3.9.2"
  },
  "widgets": {
   "application/vnd.jupyter.widget-state+json": {
    "state": {
     "23815022b7ac4699a5a5b1150b94ef2c": {
      "model_module": "@jupyter-widgets/controls",
      "model_module_version": "1.5.0",
      "model_name": "HBoxModel",
      "state": {
       "children": [
        "IPY_MODEL_837d5ad50d1c47ba8333b8b067dbd235",
        "IPY_MODEL_ec08ccb761334786a0d19c9f07c5d4d0",
        "IPY_MODEL_f646d5b854944961b0cba26a305924b0"
       ],
       "layout": "IPY_MODEL_a85da8803a8040aea166bf59c5d97433"
      }
     },
     "2dc8b011c3eb42d9a83280e0d9d0c673": {
      "model_module": "@jupyter-widgets/base",
      "model_module_version": "1.2.0",
      "model_name": "LayoutModel",
      "state": {}
     },
     "304c447d5b2e41029595c7527abcb588": {
      "model_module": "@jupyter-widgets/controls",
      "model_module_version": "1.5.0",
      "model_name": "HBoxModel",
      "state": {
       "children": [
        "IPY_MODEL_b48b28df8a9f43f699f42c8ba3aff73e",
        "IPY_MODEL_a908da02aad4474ea1da53460cafb107",
        "IPY_MODEL_62a70bc6e2cd4469a4ee371b615c82f8"
       ],
       "layout": "IPY_MODEL_3b4b89593ac5446e971d147c0d7921bd"
      }
     },
     "3b4b89593ac5446e971d147c0d7921bd": {
      "model_module": "@jupyter-widgets/base",
      "model_module_version": "1.2.0",
      "model_name": "LayoutModel",
      "state": {
       "display": "inline-flex",
       "flex_flow": "row wrap",
       "width": "100%"
      }
     },
     "4551cb06cdff4099ab2438199e8ad258": {
      "model_module": "@jupyter-widgets/base",
      "model_module_version": "1.2.0",
      "model_name": "LayoutModel",
      "state": {}
     },
     "5d9d5bf4217348c5a7fd211b3e68397f": {
      "model_module": "@jupyter-widgets/controls",
      "model_module_version": "1.5.0",
      "model_name": "DescriptionStyleModel",
      "state": {
       "description_width": ""
      }
     },
     "62a70bc6e2cd4469a4ee371b615c82f8": {
      "model_module": "@jupyter-widgets/controls",
      "model_module_version": "1.5.0",
      "model_name": "HTMLModel",
      "state": {
       "layout": "IPY_MODEL_b857ea1c63be4342bfb0bfee214f4364",
       "style": "IPY_MODEL_ff0cd68eac184581ad253332b92de5d0",
       "value": " [ 17%]   00:31 -&gt; (02:58 left)"
      }
     },
     "719b4fd5ecd947e390ebe544a0bee441": {
      "model_module": "@jupyter-widgets/base",
      "model_module_version": "1.2.0",
      "model_name": "LayoutModel",
      "state": {}
     },
     "7e8a92a82d694f138c691cdbf6c90b06": {
      "model_module": "@jupyter-widgets/controls",
      "model_module_version": "1.5.0",
      "model_name": "DescriptionStyleModel",
      "state": {
       "description_width": ""
      }
     },
     "837d5ad50d1c47ba8333b8b067dbd235": {
      "model_module": "@jupyter-widgets/controls",
      "model_module_version": "1.5.0",
      "model_name": "HTMLModel",
      "state": {
       "layout": "IPY_MODEL_4551cb06cdff4099ab2438199e8ad258",
       "style": "IPY_MODEL_5d9d5bf4217348c5a7fd211b3e68397f",
       "value": "Done! Use &#x27;show&#x27; commands to display/save.   "
      }
     },
     "8f9247f49c8d4193926372e7240b07fc": {
      "model_module": "@jupyter-widgets/controls",
      "model_module_version": "1.5.0",
      "model_name": "ProgressStyleModel",
      "state": {
       "description_width": ""
      }
     },
     "9587dc8a11824b64a2bc0a2a6bf2f871": {
      "model_module": "@jupyter-widgets/base",
      "model_module_version": "1.2.0",
      "model_name": "LayoutModel",
      "state": {
       "flex": "2"
      }
     },
     "a85da8803a8040aea166bf59c5d97433": {
      "model_module": "@jupyter-widgets/base",
      "model_module_version": "1.2.0",
      "model_name": "LayoutModel",
      "state": {
       "display": "inline-flex",
       "flex_flow": "row wrap",
       "width": "100%"
      }
     },
     "a908da02aad4474ea1da53460cafb107": {
      "model_module": "@jupyter-widgets/controls",
      "model_module_version": "1.5.0",
      "model_name": "FloatProgressModel",
      "state": {
       "layout": "IPY_MODEL_9587dc8a11824b64a2bc0a2a6bf2f871",
       "max": 35,
       "style": "IPY_MODEL_e5950d66fd324e8593fa7d196022e3f4",
       "value": 6
      }
     },
     "aa4c25eacb524aab85d13761e0c901fe": {
      "model_module": "@jupyter-widgets/controls",
      "model_module_version": "1.5.0",
      "model_name": "DescriptionStyleModel",
      "state": {
       "description_width": ""
      }
     },
     "b48b28df8a9f43f699f42c8ba3aff73e": {
      "model_module": "@jupyter-widgets/controls",
      "model_module_version": "1.5.0",
      "model_name": "HTMLModel",
      "state": {
       "layout": "IPY_MODEL_2dc8b011c3eb42d9a83280e0d9d0c673",
       "style": "IPY_MODEL_7e8a92a82d694f138c691cdbf6c90b06",
       "value": "[Step 2/3] Processing Pairwise Features      "
      }
     },
     "b857ea1c63be4342bfb0bfee214f4364": {
      "model_module": "@jupyter-widgets/base",
      "model_module_version": "1.2.0",
      "model_name": "LayoutModel",
      "state": {}
     },
     "e5950d66fd324e8593fa7d196022e3f4": {
      "model_module": "@jupyter-widgets/controls",
      "model_module_version": "1.5.0",
      "model_name": "ProgressStyleModel",
      "state": {
       "description_width": ""
      }
     },
     "ec08ccb761334786a0d19c9f07c5d4d0": {
      "model_module": "@jupyter-widgets/controls",
      "model_module_version": "1.5.0",
      "model_name": "FloatProgressModel",
      "state": {
       "bar_style": "success",
       "layout": "IPY_MODEL_f5671914d732418abd31dafcb57a5cbe",
       "max": 1,
       "style": "IPY_MODEL_8f9247f49c8d4193926372e7240b07fc",
       "value": 1
      }
     },
     "f5671914d732418abd31dafcb57a5cbe": {
      "model_module": "@jupyter-widgets/base",
      "model_module_version": "1.2.0",
      "model_name": "LayoutModel",
      "state": {
       "flex": "2"
      }
     },
     "f646d5b854944961b0cba26a305924b0": {
      "model_module": "@jupyter-widgets/controls",
      "model_module_version": "1.5.0",
      "model_name": "HTMLModel",
      "state": {
       "layout": "IPY_MODEL_719b4fd5ecd947e390ebe544a0bee441",
       "style": "IPY_MODEL_aa4c25eacb524aab85d13761e0c901fe",
       "value": " [100%]   00:02 -&gt; (00:00 left)"
      }
     },
     "ff0cd68eac184581ad253332b92de5d0": {
      "model_module": "@jupyter-widgets/controls",
      "model_module_version": "1.5.0",
      "model_name": "DescriptionStyleModel",
      "state": {
       "description_width": ""
      }
     }
    },
    "version_major": 2,
    "version_minor": 0
   }
  }
 },
 "nbformat": 4,
 "nbformat_minor": 5
}
